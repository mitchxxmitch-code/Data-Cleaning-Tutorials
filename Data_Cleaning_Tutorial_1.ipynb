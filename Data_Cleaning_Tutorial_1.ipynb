{
 "cells": [
  {
   "cell_type": "markdown",
   "metadata": {
    "collapsed": true,
    "pycharm": {
     "name": "#%% md\n"
    }
   },
   "source": [
    "# Data Cleaning Tutorial 1"
   ]
  },
  {
   "cell_type": "markdown",
   "source": [
    "Youtube: https://www.youtube.com/watch?v=ZyhVh-qRZPA&list=PL-osiE80TeTsWmV9i9c58mdDCSskIFdDS"
   ],
   "metadata": {
    "collapsed": false,
    "pycharm": {
     "name": "#%% md\n"
    }
   }
  },
  {
   "cell_type": "markdown",
   "source": [
    "Welcome to my first coding tutorial about Data Cleaning. It is the very first time for me to speak in front of the camera. I am really happy for having the chane to give something back to the community. Without further ado, let's straight jump in!\n",
    "\n",
    "You can find all relevant links in the Youtube Video Description. Also you can download code and dataset from my repository (link also in the description)"
   ],
   "metadata": {
    "collapsed": false,
    "pycharm": {
     "name": "#%% md\n"
    }
   }
  },
  {
   "cell_type": "markdown",
   "source": [
    "I am using Anaconda and Jupyter Notebook in this tutorial. There are already many tutorials for installing Anaconda. The advantage of using Anaconde is that you already have a lot of python packages preinstalled.\n",
    "\n",
    "If everything is set up, we can start by getting the Data. The dataset I have choosen is the Stackoverflow Survey of the year 2021.\n",
    "\n",
    "You can find a link to the website below as well as in the description of the video:\n",
    "https://insights.stackoverflow.com/survey?_ga=2.83314132.35207981.1644749519-993221112.1644749519\n",
    "\n",
    "If you downloaded the whole repository there is no need to separately download the dataset since it is already located in the Data Folder.\n",
    "\n",
    "Now let's finally get to the coding part!\n",
    "\n",
    "<<<Explain how to create a jupyter notebook>>>"
   ],
   "metadata": {
    "collapsed": false,
    "pycharm": {
     "name": "#%% md\n"
    }
   }
  },
  {
   "cell_type": "markdown",
   "source": [
    "### Libraries Import"
   ],
   "metadata": {
    "collapsed": false,
    "pycharm": {
     "name": "#%% md\n"
    }
   }
  },
  {
   "cell_type": "code",
   "execution_count": 2,
   "outputs": [],
   "source": [
    "import pandas as pd"
   ],
   "metadata": {
    "collapsed": false,
    "pycharm": {
     "name": "#%%\n"
    }
   }
  },
  {
   "cell_type": "markdown",
   "source": [
    "We use the pandas read_csv function to import the data. By using pandas you import the data as pandas dataframe. We will get into more detail in the following videos. But for now a Dataframe basically consists of rows and columns.\n",
    "\n",
    "After assigning the data to survey_df we see the first advantage of using a jupyter notebook. We can display the dataframe and have a look at how the data looks like."
   ],
   "metadata": {
    "collapsed": false,
    "pycharm": {
     "name": "#%% md\n"
    }
   }
  },
  {
   "cell_type": "code",
   "execution_count": 5,
   "outputs": [
    {
     "data": {
      "text/plain": "       ResponseId                                         MainBranch  \\\n0               1                     I am a developer by profession   \n1               2             I am a student who is learning to code   \n2               3  I am not primarily a developer, but I write co...   \n3               4                     I am a developer by profession   \n4               5                     I am a developer by profession   \n...           ...                                                ...   \n83434       83435                     I am a developer by profession   \n83435       83436                     I am a developer by profession   \n83436       83437                     I am a developer by profession   \n83437       83438                     I am a developer by profession   \n83438       83439                     I am a developer by profession   \n\n                                              Employment  \\\n0      Independent contractor, freelancer, or self-em...   \n1                                     Student, full-time   \n2                                     Student, full-time   \n3                                     Employed full-time   \n4      Independent contractor, freelancer, or self-em...   \n...                                                  ...   \n83434                                 Employed full-time   \n83435  Independent contractor, freelancer, or self-em...   \n83436                                 Employed full-time   \n83437                                 Employed full-time   \n83438                                 Employed full-time   \n\n                                                 Country    US_State  \\\n0                                               Slovakia         NaN   \n1                                            Netherlands         NaN   \n2                                     Russian Federation         NaN   \n3                                                Austria         NaN   \n4      United Kingdom of Great Britain and Northern I...         NaN   \n...                                                  ...         ...   \n83434                           United States of America       Texas   \n83435                                              Benin         NaN   \n83436                           United States of America  New Jersey   \n83437                                             Canada         NaN   \n83438                                             Brazil         NaN   \n\n      UK_Country                                            EdLevel  \\\n0            NaN  Secondary school (e.g. American high school, G...   \n1            NaN       Bachelor’s degree (B.A., B.S., B.Eng., etc.)   \n2            NaN       Bachelor’s degree (B.A., B.S., B.Eng., etc.)   \n3            NaN    Master’s degree (M.A., M.S., M.Eng., MBA, etc.)   \n4        England    Master’s degree (M.A., M.S., M.Eng., MBA, etc.)   \n...          ...                                                ...   \n83434        NaN       Bachelor’s degree (B.A., B.S., B.Eng., etc.)   \n83435        NaN       Bachelor’s degree (B.A., B.S., B.Eng., etc.)   \n83436        NaN  Secondary school (e.g. American high school, G...   \n83437        NaN       Bachelor’s degree (B.A., B.S., B.Eng., etc.)   \n83438        NaN                 Professional degree (JD, MD, etc.)   \n\n          Age1stCode                                          LearnCode  \\\n0      18 - 24 years  Coding Bootcamp;Other online resources (ex: vi...   \n1      11 - 17 years  Other online resources (ex: videos, blogs, etc...   \n2      11 - 17 years  Other online resources (ex: videos, blogs, etc...   \n3      11 - 17 years                                                NaN   \n4       5 - 10 years                            Friend or family member   \n...              ...                                                ...   \n83434  11 - 17 years  Other online resources (ex: videos, blogs, etc...   \n83435  11 - 17 years  Other online resources (ex: videos, blogs, etc...   \n83436  11 - 17 years                                             School   \n83437  11 - 17 years  Online Courses or Certification;Books / Physic...   \n83438  11 - 17 years                                             School   \n\n      YearsCode  ...              Age Gender Trans                Sexuality  \\\n0           NaN  ...  25-34 years old    Man    No  Straight / Heterosexual   \n1             7  ...  18-24 years old    Man    No  Straight / Heterosexual   \n2           NaN  ...  18-24 years old    Man    No        Prefer not to say   \n3           NaN  ...  35-44 years old    Man    No  Straight / Heterosexual   \n4            17  ...  25-34 years old    Man    No                      NaN   \n...         ...  ...              ...    ...   ...                      ...   \n83434         6  ...  25-34 years old    Man    No  Straight / Heterosexual   \n83435         4  ...  18-24 years old    Man    No  Straight / Heterosexual   \n83436        10  ...  25-34 years old    Man    No                      NaN   \n83437         5  ...  25-34 years old    Man    No  Straight / Heterosexual   \n83438        14  ...  18-24 years old    Man    No  Straight / Heterosexual   \n\n                          Ethnicity                Accessibility  \\\n0      White or of European descent            None of the above   \n1      White or of European descent            None of the above   \n2                 Prefer not to say            None of the above   \n3      White or of European descent  I am deaf / hard of hearing   \n4      White or of European descent            None of the above   \n...                             ...                          ...   \n83434  White or of European descent            None of the above   \n83435   Black or of African descent            None of the above   \n83436  White or of European descent            None of the above   \n83437  White or of European descent            None of the above   \n83438        Hispanic or Latino/a/x            None of the above   \n\n                                            MentalHealth  \\\n0                                      None of the above   \n1                                      None of the above   \n2                                      None of the above   \n3                                                    NaN   \n4                                                    NaN   \n...                                                  ...   \n83434  I have a concentration and/or memory disorder ...   \n83435                                  None of the above   \n83436                                  None of the above   \n83437  I have a mood or emotional disorder (e.g. depr...   \n83438                                  None of the above   \n\n                SurveyLength                  SurveyEase ConvertedCompYearly  \n0      Appropriate in length                        Easy             62268.0  \n1      Appropriate in length                        Easy                 NaN  \n2      Appropriate in length                        Easy                 NaN  \n3      Appropriate in length  Neither easy nor difficult                 NaN  \n4      Appropriate in length                        Easy                 NaN  \n...                      ...                         ...                 ...  \n83434  Appropriate in length                        Easy            160500.0  \n83435  Appropriate in length                        Easy              3960.0  \n83436  Appropriate in length  Neither easy nor difficult             90000.0  \n83437  Appropriate in length  Neither easy nor difficult            816816.0  \n83438  Appropriate in length                        Easy             21168.0  \n\n[83439 rows x 48 columns]",
      "text/html": "<div>\n<style scoped>\n    .dataframe tbody tr th:only-of-type {\n        vertical-align: middle;\n    }\n\n    .dataframe tbody tr th {\n        vertical-align: top;\n    }\n\n    .dataframe thead th {\n        text-align: right;\n    }\n</style>\n<table border=\"1\" class=\"dataframe\">\n  <thead>\n    <tr style=\"text-align: right;\">\n      <th></th>\n      <th>ResponseId</th>\n      <th>MainBranch</th>\n      <th>Employment</th>\n      <th>Country</th>\n      <th>US_State</th>\n      <th>UK_Country</th>\n      <th>EdLevel</th>\n      <th>Age1stCode</th>\n      <th>LearnCode</th>\n      <th>YearsCode</th>\n      <th>...</th>\n      <th>Age</th>\n      <th>Gender</th>\n      <th>Trans</th>\n      <th>Sexuality</th>\n      <th>Ethnicity</th>\n      <th>Accessibility</th>\n      <th>MentalHealth</th>\n      <th>SurveyLength</th>\n      <th>SurveyEase</th>\n      <th>ConvertedCompYearly</th>\n    </tr>\n  </thead>\n  <tbody>\n    <tr>\n      <th>0</th>\n      <td>1</td>\n      <td>I am a developer by profession</td>\n      <td>Independent contractor, freelancer, or self-em...</td>\n      <td>Slovakia</td>\n      <td>NaN</td>\n      <td>NaN</td>\n      <td>Secondary school (e.g. American high school, G...</td>\n      <td>18 - 24 years</td>\n      <td>Coding Bootcamp;Other online resources (ex: vi...</td>\n      <td>NaN</td>\n      <td>...</td>\n      <td>25-34 years old</td>\n      <td>Man</td>\n      <td>No</td>\n      <td>Straight / Heterosexual</td>\n      <td>White or of European descent</td>\n      <td>None of the above</td>\n      <td>None of the above</td>\n      <td>Appropriate in length</td>\n      <td>Easy</td>\n      <td>62268.0</td>\n    </tr>\n    <tr>\n      <th>1</th>\n      <td>2</td>\n      <td>I am a student who is learning to code</td>\n      <td>Student, full-time</td>\n      <td>Netherlands</td>\n      <td>NaN</td>\n      <td>NaN</td>\n      <td>Bachelor’s degree (B.A., B.S., B.Eng., etc.)</td>\n      <td>11 - 17 years</td>\n      <td>Other online resources (ex: videos, blogs, etc...</td>\n      <td>7</td>\n      <td>...</td>\n      <td>18-24 years old</td>\n      <td>Man</td>\n      <td>No</td>\n      <td>Straight / Heterosexual</td>\n      <td>White or of European descent</td>\n      <td>None of the above</td>\n      <td>None of the above</td>\n      <td>Appropriate in length</td>\n      <td>Easy</td>\n      <td>NaN</td>\n    </tr>\n    <tr>\n      <th>2</th>\n      <td>3</td>\n      <td>I am not primarily a developer, but I write co...</td>\n      <td>Student, full-time</td>\n      <td>Russian Federation</td>\n      <td>NaN</td>\n      <td>NaN</td>\n      <td>Bachelor’s degree (B.A., B.S., B.Eng., etc.)</td>\n      <td>11 - 17 years</td>\n      <td>Other online resources (ex: videos, blogs, etc...</td>\n      <td>NaN</td>\n      <td>...</td>\n      <td>18-24 years old</td>\n      <td>Man</td>\n      <td>No</td>\n      <td>Prefer not to say</td>\n      <td>Prefer not to say</td>\n      <td>None of the above</td>\n      <td>None of the above</td>\n      <td>Appropriate in length</td>\n      <td>Easy</td>\n      <td>NaN</td>\n    </tr>\n    <tr>\n      <th>3</th>\n      <td>4</td>\n      <td>I am a developer by profession</td>\n      <td>Employed full-time</td>\n      <td>Austria</td>\n      <td>NaN</td>\n      <td>NaN</td>\n      <td>Master’s degree (M.A., M.S., M.Eng., MBA, etc.)</td>\n      <td>11 - 17 years</td>\n      <td>NaN</td>\n      <td>NaN</td>\n      <td>...</td>\n      <td>35-44 years old</td>\n      <td>Man</td>\n      <td>No</td>\n      <td>Straight / Heterosexual</td>\n      <td>White or of European descent</td>\n      <td>I am deaf / hard of hearing</td>\n      <td>NaN</td>\n      <td>Appropriate in length</td>\n      <td>Neither easy nor difficult</td>\n      <td>NaN</td>\n    </tr>\n    <tr>\n      <th>4</th>\n      <td>5</td>\n      <td>I am a developer by profession</td>\n      <td>Independent contractor, freelancer, or self-em...</td>\n      <td>United Kingdom of Great Britain and Northern I...</td>\n      <td>NaN</td>\n      <td>England</td>\n      <td>Master’s degree (M.A., M.S., M.Eng., MBA, etc.)</td>\n      <td>5 - 10 years</td>\n      <td>Friend or family member</td>\n      <td>17</td>\n      <td>...</td>\n      <td>25-34 years old</td>\n      <td>Man</td>\n      <td>No</td>\n      <td>NaN</td>\n      <td>White or of European descent</td>\n      <td>None of the above</td>\n      <td>NaN</td>\n      <td>Appropriate in length</td>\n      <td>Easy</td>\n      <td>NaN</td>\n    </tr>\n    <tr>\n      <th>...</th>\n      <td>...</td>\n      <td>...</td>\n      <td>...</td>\n      <td>...</td>\n      <td>...</td>\n      <td>...</td>\n      <td>...</td>\n      <td>...</td>\n      <td>...</td>\n      <td>...</td>\n      <td>...</td>\n      <td>...</td>\n      <td>...</td>\n      <td>...</td>\n      <td>...</td>\n      <td>...</td>\n      <td>...</td>\n      <td>...</td>\n      <td>...</td>\n      <td>...</td>\n      <td>...</td>\n    </tr>\n    <tr>\n      <th>83434</th>\n      <td>83435</td>\n      <td>I am a developer by profession</td>\n      <td>Employed full-time</td>\n      <td>United States of America</td>\n      <td>Texas</td>\n      <td>NaN</td>\n      <td>Bachelor’s degree (B.A., B.S., B.Eng., etc.)</td>\n      <td>11 - 17 years</td>\n      <td>Other online resources (ex: videos, blogs, etc...</td>\n      <td>6</td>\n      <td>...</td>\n      <td>25-34 years old</td>\n      <td>Man</td>\n      <td>No</td>\n      <td>Straight / Heterosexual</td>\n      <td>White or of European descent</td>\n      <td>None of the above</td>\n      <td>I have a concentration and/or memory disorder ...</td>\n      <td>Appropriate in length</td>\n      <td>Easy</td>\n      <td>160500.0</td>\n    </tr>\n    <tr>\n      <th>83435</th>\n      <td>83436</td>\n      <td>I am a developer by profession</td>\n      <td>Independent contractor, freelancer, or self-em...</td>\n      <td>Benin</td>\n      <td>NaN</td>\n      <td>NaN</td>\n      <td>Bachelor’s degree (B.A., B.S., B.Eng., etc.)</td>\n      <td>11 - 17 years</td>\n      <td>Other online resources (ex: videos, blogs, etc...</td>\n      <td>4</td>\n      <td>...</td>\n      <td>18-24 years old</td>\n      <td>Man</td>\n      <td>No</td>\n      <td>Straight / Heterosexual</td>\n      <td>Black or of African descent</td>\n      <td>None of the above</td>\n      <td>None of the above</td>\n      <td>Appropriate in length</td>\n      <td>Easy</td>\n      <td>3960.0</td>\n    </tr>\n    <tr>\n      <th>83436</th>\n      <td>83437</td>\n      <td>I am a developer by profession</td>\n      <td>Employed full-time</td>\n      <td>United States of America</td>\n      <td>New Jersey</td>\n      <td>NaN</td>\n      <td>Secondary school (e.g. American high school, G...</td>\n      <td>11 - 17 years</td>\n      <td>School</td>\n      <td>10</td>\n      <td>...</td>\n      <td>25-34 years old</td>\n      <td>Man</td>\n      <td>No</td>\n      <td>NaN</td>\n      <td>White or of European descent</td>\n      <td>None of the above</td>\n      <td>None of the above</td>\n      <td>Appropriate in length</td>\n      <td>Neither easy nor difficult</td>\n      <td>90000.0</td>\n    </tr>\n    <tr>\n      <th>83437</th>\n      <td>83438</td>\n      <td>I am a developer by profession</td>\n      <td>Employed full-time</td>\n      <td>Canada</td>\n      <td>NaN</td>\n      <td>NaN</td>\n      <td>Bachelor’s degree (B.A., B.S., B.Eng., etc.)</td>\n      <td>11 - 17 years</td>\n      <td>Online Courses or Certification;Books / Physic...</td>\n      <td>5</td>\n      <td>...</td>\n      <td>25-34 years old</td>\n      <td>Man</td>\n      <td>No</td>\n      <td>Straight / Heterosexual</td>\n      <td>White or of European descent</td>\n      <td>None of the above</td>\n      <td>I have a mood or emotional disorder (e.g. depr...</td>\n      <td>Appropriate in length</td>\n      <td>Neither easy nor difficult</td>\n      <td>816816.0</td>\n    </tr>\n    <tr>\n      <th>83438</th>\n      <td>83439</td>\n      <td>I am a developer by profession</td>\n      <td>Employed full-time</td>\n      <td>Brazil</td>\n      <td>NaN</td>\n      <td>NaN</td>\n      <td>Professional degree (JD, MD, etc.)</td>\n      <td>11 - 17 years</td>\n      <td>School</td>\n      <td>14</td>\n      <td>...</td>\n      <td>18-24 years old</td>\n      <td>Man</td>\n      <td>No</td>\n      <td>Straight / Heterosexual</td>\n      <td>Hispanic or Latino/a/x</td>\n      <td>None of the above</td>\n      <td>None of the above</td>\n      <td>Appropriate in length</td>\n      <td>Easy</td>\n      <td>21168.0</td>\n    </tr>\n  </tbody>\n</table>\n<p>83439 rows × 48 columns</p>\n</div>"
     },
     "execution_count": 5,
     "metadata": {},
     "output_type": "execute_result"
    }
   ],
   "source": [
    "survey_df = pd.read_csv(\"Data/survey_results_public.csv\")\n",
    "survey_df"
   ],
   "metadata": {
    "collapsed": false,
    "pycharm": {
     "name": "#%%\n"
    }
   }
  },
  {
   "cell_type": "code",
   "execution_count": null,
   "outputs": [],
   "source": [],
   "metadata": {
    "collapsed": false,
    "pycharm": {
     "name": "#%%\n"
    }
   }
  }
 ],
 "metadata": {
  "kernelspec": {
   "display_name": "Python 3",
   "language": "python",
   "name": "python3"
  },
  "language_info": {
   "codemirror_mode": {
    "name": "ipython",
    "version": 2
   },
   "file_extension": ".py",
   "mimetype": "text/x-python",
   "name": "python",
   "nbconvert_exporter": "python",
   "pygments_lexer": "ipython2",
   "version": "2.7.6"
  }
 },
 "nbformat": 4,
 "nbformat_minor": 0
}